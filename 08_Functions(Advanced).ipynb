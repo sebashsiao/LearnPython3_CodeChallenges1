{
 "cells": [
  {
   "cell_type": "markdown",
   "id": "d725961fac133769",
   "metadata": {},
   "source": [
    "# Python Code Challenges: Functions (Advanced)"
   ]
  },
  {
   "cell_type": "markdown",
   "id": "84b8a58e82f02c05",
   "metadata": {},
   "source": [
    "#### Difficult Python Code Challenges involving Functions\n",
    "\n",
    "This article will help you review Python functions by providing some code challenges involving functions.\n",
    "\n",
    "Some of these challenges are difficult! Take some time to think about them before starting to code.\n",
    "\n",
    "You might not get the solution correct on your first try — look at your output, try to find where you’re going wrong, and iterate on your solution.\n",
    "\n",
    "Finally, if you get stuck, use our solution code! If you “Check Answer” twice with an incorrect solution, you should see an option to get our solution code. However, truly investigate that solution — experiment and play with the solution code until you have a good grasp of how it is working. Good luck!"
   ]
  },
  {
   "cell_type": "markdown",
   "id": "4bdde93f7aef2fd6",
   "metadata": {},
   "source": [
    "## Function Syntax\n",
    "As a refresher, function syntax looks like this:"
   ]
  },
  {
   "cell_type": "markdown",
   "id": "f36b588f",
   "metadata": {
    "ExecuteTime": {
     "end_time": "2023-09-25T23:23:46.358858Z",
     "start_time": "2023-09-25T23:23:46.154840Z"
    }
   },
   "source": [
    "````py\n",
    "def some_function(some_input1, some_input2):\n",
    "  # … do something with the inputs …\n",
    "  return output\n",
    "````"
   ]
  },
  {
   "cell_type": "markdown",
   "id": "41f535b0a205a82",
   "metadata": {},
   "source": [
    "For example, a function that returns the sum of the first and last elements of a given list might look like this:"
   ]
  },
  {
   "cell_type": "markdown",
   "id": "876a666a",
   "metadata": {
    "ExecuteTime": {
     "end_time": "2023-09-25T23:23:46.488744Z",
     "start_time": "2023-09-25T23:23:46.166411Z"
    }
   },
   "source": [
    "```py\n",
    "def first_plus_last(lst):\n",
    "  return lst[0] + lst[-1]\n",
    "````"
   ]
  },
  {
   "cell_type": "markdown",
   "id": "8b3d00b96f4fdcc",
   "metadata": {},
   "source": [
    "And this would produce output like:"
   ]
  },
  {
   "cell_type": "markdown",
   "id": "b377b183",
   "metadata": {},
   "source": [
    "```\n",
    ">>> first_plus_last([1, 2, 3, 4])\n",
    "5\n",
    ">>> first_plus_last([8, 2, 5, -8])\n",
    "0\n",
    ">>> first_plus_last([-10, 2, 3, -4])\n",
    "-14\n",
    "```"
   ]
  },
  {
   "cell_type": "markdown",
   "id": "13cec90c8f2871e0",
   "metadata": {},
   "source": [
    "## Challenges\n",
    "We’ve included 5 challenges below. Try to answer all of them and polish up your problem-solving skills!"
   ]
  },
  {
   "cell_type": "markdown",
   "id": "f970da53a418fb68",
   "metadata": {},
   "source": [
    "## 1. First Three Multiples\n",
    "Let’s start by creating a function which both prints and returns values. For this function, we are going to print out the first three multiples of a number and return the third multiple. This means that we are going to print 1, 2, and 3 times the input number and then return the value of 3 times the input number. For this, we are going to need a few steps:\n",
    "\n",
    "1. Define the function header to accept one input parameter called <span style=\"color: Green;\">num</span>\n",
    "2. Print out 1 times <span style=\"color: Green;\">num</span>\n",
    "3. Print out 2 times <span style=\"color: Green;\">num</span>\n",
    "4. Print out 3 times <span style=\"color: Green;\">num</span>\n",
    "5. Return the value of 3 times <span style=\"color: Green;\">num</span>"
   ]
  },
  {
   "cell_type": "markdown",
   "id": "86dafdbd3e39e125",
   "metadata": {},
   "source": [
    "### Coding question\n",
    "Write a function named <span style=\"color: Green;\">first_three_multiples()</span> that has one parameter named <span style=\"color: Green;\">num</span>.\n",
    "\n",
    "This function should print the first three multiples of <span style=\"color: Green;\">num</span>. Then, it should return the third multiple.\n",
    "\n",
    "For example, <span style=\"color: Green;\">first_three_multiples(7)</span> should print <span style=\"color: Green;\">7</span>, <span style=\"color: Green;\">14</span>, and <span style=\"color: Green;\">21</span> on three different lines, and return <span style=\"color: Green;\">21</span>."
   ]
  },
  {
   "cell_type": "code",
   "execution_count": 1,
   "id": "942331ca7e6e7409",
   "metadata": {
    "ExecuteTime": {
     "end_time": "2023-09-25T23:23:46.533494Z",
     "start_time": "2023-09-25T23:23:46.182277Z"
    }
   },
   "outputs": [
    {
     "name": "stdout",
     "output_type": "stream",
     "text": [
      "10 20 30\n",
      "0 0 0\n"
     ]
    },
    {
     "data": {
      "text/plain": [
       "0"
      ]
     },
     "execution_count": 1,
     "metadata": {},
     "output_type": "execute_result"
    }
   ],
   "source": [
    "# Write your first_three_multiples function here\n",
    "def first_three_multiples(num):\n",
    "  print(num*1, num*2, num*3)\n",
    "  return num * 3\n",
    "\n",
    "# Uncomment these function calls to test your first_three_multiples function:\n",
    "first_three_multiples(10)\n",
    "# should print 10, 20, 30, and return 30\n",
    "first_three_multiples(0)\n",
    "# should print 0, 0, 0, and return 0"
   ]
  },
  {
   "cell_type": "code",
   "execution_count": 2,
   "id": "c2bbed320b11ee62",
   "metadata": {
    "ExecuteTime": {
     "end_time": "2023-09-25T23:23:46.534493Z",
     "start_time": "2023-09-25T23:23:46.199090Z"
    }
   },
   "outputs": [],
   "source": [
    "# Let’s go over how we answered it:\n",
    "\n",
    "def first_three_multiples(num):\n",
    "  print(num)\n",
    "  print(num * 2)\n",
    "  print(num * 3)\n",
    "  return num * 3"
   ]
  },
  {
   "cell_type": "markdown",
   "id": "77a60aad542215d7",
   "metadata": {},
   "source": [
    "In this solution, we start by defining the function header with an input. We then use the next three lines to print the result of multiplying the input value by one, two, and three. Finally, we return the result of multiplying the input value by 3."
   ]
  },
  {
   "cell_type": "markdown",
   "id": "485e057978856a65",
   "metadata": {},
   "source": [
    "## 2. Tip\n",
    "Let’s say we are going to a restaurant and we decide to leave a tip. We can create a function to easily calculate the amount to tip based on the total cost of the food and a percentage. This function will accept both of those values as inputs and return the amount of money to tip. In order to do this, we will need a few steps:\n",
    "\n",
    "1. Define the function to accept the total cost of the food called <span style=\"color: Green;\">total</span> and the percentage to tip as <span style=\"color: Green;\">percentage</span>\n",
    "2. Calculate the tip amount by multiplying the total and percentage and dividing by 100\n",
    "3. Return the tip amount"
   ]
  },
  {
   "cell_type": "markdown",
   "id": "0fb33a18",
   "metadata": {},
   "source": [
    "### Coding question\n",
    "Create a function called <span style=\"color: Green;\">tip()</span> that has two parameters named <span style=\"color: Green;\">total</span> and <span style=\"color: Green;\">percentage</span>.\n",
    "\n",
    "This function should return the amount you should tip given a total and the percentage you want to tip.\n",
    "\n"
   ]
  },
  {
   "cell_type": "code",
   "execution_count": 3,
   "id": "717602a60a05411a",
   "metadata": {
    "ExecuteTime": {
     "end_time": "2023-09-25T23:23:46.539522Z",
     "start_time": "2023-09-25T23:23:46.213192Z"
    }
   },
   "outputs": [
    {
     "name": "stdout",
     "output_type": "stream",
     "text": [
      "2.5\n",
      "0.0\n"
     ]
    }
   ],
   "source": [
    "# Write your tip function here:\n",
    "def tip(total, percentage):\n",
    "  return total * (percentage/100)\n",
    "# Uncomment these function calls to test your tip function:\n",
    "print(tip(10, 25))\n",
    "# should print 2.5\n",
    "print(tip(0, 100))\n",
    "# should print 0.0"
   ]
  },
  {
   "cell_type": "code",
   "execution_count": 4,
   "id": "566e86ddd6f300f4",
   "metadata": {
    "ExecuteTime": {
     "end_time": "2023-09-25T23:23:46.560849Z",
     "start_time": "2023-09-25T23:23:46.227859Z"
    }
   },
   "outputs": [],
   "source": [
    "# Lets go over this solution:\n",
    "\n",
    "def tip(total, percentage):\n",
    "  tip_amount = (total * percentage) / 100\n",
    "  return tip_amount"
   ]
  },
  {
   "cell_type": "markdown",
   "id": "b00befb786e7c00d",
   "metadata": {},
   "source": [
    "In this solution, we defined the function with two parameters and then used them to calculate the tip amount. We multiplied the input values together and divided by 100 since the second input is in percentage form and we want a monetary amount. Lastly, we returned the calculated tip value."
   ]
  },
  {
   "cell_type": "markdown",
   "id": "d68d1234a29120b2",
   "metadata": {},
   "source": [
    "## 3. Bond, James Bond\n",
    "It’s time to re-create a famous movie scene through code. Our function is going to concatenate strings together in order to replace James Bond’s name with whatever name we want. The input to our function will be two strings, one for a first name and another for a last name. The function will return a string consisting of the famous phrase but replaced with our inputs. To accomplish this, we need to:\n",
    "\n",
    "1. Define the function to accept two parameters, <span style=\"color: Green;\">first_name</span> and <span style=\"color: Green;\">last_name</span>\n",
    "2. Concatenate the string <span style=\"color: Green;\">', '</span> on to the <span style=\"color: Green;\">last_name</span>\n",
    "3. Concatenate the <span style=\"color: Green;\">first_name</span> on to the result of the previous step\n",
    "4. Concatenate a space on to the result\n",
    "5. Concatenate the <span style=\"color: Green;\">last_name</span> again to the result\n",
    "6. Return the final string"
   ]
  },
  {
   "cell_type": "markdown",
   "id": "3b523cb24612f432",
   "metadata": {},
   "source": [
    "### Coding question\n",
    "Write a function named <span style=\"color: Green;\">introduction()</span> that has two parameters named <span style=\"color: Green;\">first_name</span> and <span style=\"color: Green;\">last_name</span>.\n",
    "\n",
    "The function should return the <span style=\"color: Green;\">last_name</span>, followed by a comma, a space, <span style=\"color: Green;\">first_name</span> another space, and finally <span style=\"color: Green;\">last_name</span>."
   ]
  },
  {
   "cell_type": "code",
   "execution_count": 5,
   "id": "9b2ec28c64b82870",
   "metadata": {
    "ExecuteTime": {
     "end_time": "2023-09-25T23:23:46.562807Z",
     "start_time": "2023-09-25T23:23:46.241176Z"
    }
   },
   "outputs": [
    {
     "name": "stdout",
     "output_type": "stream",
     "text": [
      "Bond, James Bond\n",
      "Angelou, Maya Angelou\n"
     ]
    }
   ],
   "source": [
    "# Write your introduction function here:\n",
    "def introduction(first_name, last_name):\n",
    "  return f'{last_name}, {first_name} {last_name}'\n",
    "# Uncomment these function calls to test your introduction function:\n",
    "print(introduction(\"James\", \"Bond\"))\n",
    "# should print Bond, James Bond\n",
    "print(introduction(\"Maya\", \"Angelou\"))\n",
    "# should print Angelou, Maya Angelou"
   ]
  },
  {
   "cell_type": "code",
   "execution_count": 6,
   "id": "926a686d77a73a72",
   "metadata": {
    "ExecuteTime": {
     "end_time": "2023-09-25T23:23:46.590467Z",
     "start_time": "2023-09-25T23:23:46.254408Z"
    }
   },
   "outputs": [],
   "source": [
    "# Let’s go over how we did it:\n",
    "\n",
    "def introduction(first_name, last_name):\n",
    "  return last_name + \", \" + first_name + \" \" + last_name"
   ]
  },
  {
   "cell_type": "markdown",
   "id": "ad4c08327f3e8d67",
   "metadata": {},
   "source": [
    "First, we defined the method to accept the first and last names. On the next line, we performed all of the concatenations at once by adding the comma, spaces, and names in the correct order. We also returned the result on the same line."
   ]
  },
  {
   "cell_type": "markdown",
   "id": "a9cdb76240e2765b",
   "metadata": {},
   "source": [
    "## 4. Dog Years\n",
    "Let’s create a function which calculates a dog’s age in dog years! This function will accept the name of the dog and the age in human years. It will calculate the age of the dog in dog years and return a string describing the dog’s age. This will require a few steps:\n",
    "\n",
    "1. Define the function called <span style=\"color: Green;\">dog_years</span> to accept two parameters: <span style=\"color: Green;\">name</span> and <span style=\"color: Green;\">age</span>\n",
    "2. Calculate the age of the dog in dog years\n",
    "3. Concatenate the string with the dog’s name and age in dog years\n",
    "4. Return the resulting string"
   ]
  },
  {
   "cell_type": "markdown",
   "id": "bb666b6ba9f0db53",
   "metadata": {},
   "source": [
    "### Coding question\n",
    "Some say that every one year of a human’s life is equivalent to seven years of a dog’s life. Write a function named <span style=\"color: Green;\">dog_years()</span> that has two parameters named <span style=\"color: Green;\">name</span> and <span style=\"color: Green;\">age</span>.\n",
    "\n",
    "The function should compute the age in dog years and return the following string:\n",
    "```\n",
    "\"{name}, you are {age} years old in dog years\"\n",
    "```\n",
    "Test this function with your name and your age!"
   ]
  },
  {
   "cell_type": "code",
   "execution_count": 7,
   "id": "a00cb8a875ba9076",
   "metadata": {
    "ExecuteTime": {
     "end_time": "2023-09-25T23:23:46.591420Z",
     "start_time": "2023-09-25T23:23:46.271935Z"
    }
   },
   "outputs": [
    {
     "name": "stdout",
     "output_type": "stream",
     "text": [
      "Lola, you are 112 years old in dog years\n",
      "Baby, you are 0 years old in dog years\n"
     ]
    }
   ],
   "source": [
    "# Write your dog_years function here:\n",
    "def dog_years(name, age):\n",
    "  return str(name) + \", you are \" + str(age * 7) + \" years old in dog years\"\n",
    "  # return f'{name}, you are {age * 7} years old in dog years'    # altern\n",
    "# Uncomment these function calls to test your dog_years function:\n",
    "print(dog_years(\"Lola\", 16))\n",
    "# should print \"Lola, you are 112 years old in dog years\"\n",
    "print(dog_years(\"Baby\", 0))\n",
    "# should print \"Baby, you are 0 years old in dog years\""
   ]
  },
  {
   "cell_type": "code",
   "execution_count": 8,
   "id": "656eb3d78ce2236a",
   "metadata": {
    "ExecuteTime": {
     "end_time": "2023-09-25T23:23:46.591563Z",
     "start_time": "2023-09-25T23:23:46.285588Z"
    }
   },
   "outputs": [],
   "source": [
    "# Let’s look at this solution:\n",
    "\n",
    "def dog_years(name, age):\n",
    "  return name+\", you are \"+str(age * 7)+\" years old in dog years\""
   ]
  },
  {
   "cell_type": "markdown",
   "id": "fd077c73874ab9a1",
   "metadata": {},
   "source": [
    "In this solution we used two lines of code to accomplish this task. The first line defines the function with the two inputs and the second line concatenates the string while also performing the calculation. We used <span style=\"color: Green;\">str(age * 7)</span> to convert the number to a string, and since that function call returns a string, we can concatenate it in-line with the rest of the string."
   ]
  },
  {
   "cell_type": "markdown",
   "id": "c257a82e4fdae2f6",
   "metadata": {},
   "source": [
    "## 5. All Operations\n",
    "For the final code challenge, we are going to perform multiple mathematical operations on multiple inputs to the function. We will begin with adding the first two inputs, then we will subtract the third and fourth inputs. After that, we will multiply the first result and the second result. In the end, we will return the remainder of the previous result divided by the first input. We will also print each of the steps. The steps needed to complete this are:\n",
    "\n",
    "1. Define the function to accept four inputs: <span style=\"color: Green;\">a</span>, <span style=\"color: Green;\">b</span>, <span style=\"color: Green;\">c</span>, and <span style=\"color: Green;\">d</span>\n",
    "2. Print and store the result of <span style=\"color: Green;\">a</span> + <span style=\"color: Green;\">b</span>\n",
    "3. Print and store the result of <span style=\"color: Green;\">c</span> - <span style=\"color: Green;\">d</span>\n",
    "4. Print and store the first result times the second result\n",
    "5. Return the previous result modulo <span style=\"color: Green;\">a</span>"
   ]
  },
  {
   "cell_type": "markdown",
   "id": "f1d2dad55169433c",
   "metadata": {},
   "source": [
    "### Coding question\n",
    "Create a function named <span style=\"color: Green;\">lots_of_math()</span>. This function should have four parameters named <span style=\"color: Green;\">a</span>, <span style=\"color: Green;\">b</span>, <span style=\"color: Green;\">c</span>, and <span style=\"color: Green;\">d</span>. The function should print 3 lines and return 1 value.\n",
    "\n",
    "First, print the sum of <span style=\"color: Green;\">a</span> and <span style=\"color: Green;\">b</span>.\n",
    "\n",
    "Second, print <span style=\"color: Green;\">c</span> minus <span style=\"color: Green;\">d</span>.\n",
    "\n",
    "Third, print the first number printed, multiplied by the second number printed.\n",
    "\n",
    "Finally, return the third number printed modulo <span style=\"color: Green;\">a</span>."
   ]
  },
  {
   "cell_type": "code",
   "execution_count": 9,
   "id": "cdb23bd1ab582f8e",
   "metadata": {
    "ExecuteTime": {
     "end_time": "2023-09-25T23:23:46.591750Z",
     "start_time": "2023-09-25T23:23:46.299385Z"
    }
   },
   "outputs": [
    {
     "name": "stdout",
     "output_type": "stream",
     "text": [
      "3 -1 -3\n",
      "0\n",
      "2 0 0\n",
      "0\n"
     ]
    }
   ],
   "source": [
    "# Write your lots_of_math function here:\n",
    "def lots_of_math(a, b, c, d):\n",
    "  first = a + b\n",
    "  second = c - d\n",
    "  third = first * second\n",
    "  final = third % a\n",
    "  print(first, second, third)\n",
    "  return final\n",
    "\n",
    "# Uncomment these function calls to test your lots_of_math function:\n",
    "print(lots_of_math(1, 2, 3, 4))\n",
    "# should print 3, -1, -3, 0\n",
    "print(lots_of_math(1, 1, 1, 1))\n",
    "# should print 2, 0, 0, 0"
   ]
  },
  {
   "cell_type": "code",
   "execution_count": 10,
   "id": "e38ebff50bf2b93f",
   "metadata": {
    "ExecuteTime": {
     "end_time": "2023-09-25T23:23:46.591843Z",
     "start_time": "2023-09-25T23:23:46.311423Z"
    }
   },
   "outputs": [],
   "source": [
    "# Here is the way we did it:\n",
    "\n",
    "def lots_of_math(a, b, c, d):\n",
    "  first = a + b\n",
    "  second = c - d\n",
    "  third = first * second\n",
    "  fourth = third % a\n",
    "  print(first)\n",
    "  print(second)\n",
    "  print(third)\n",
    "  return fourth"
   ]
  },
  {
   "cell_type": "markdown",
   "id": "1f46b913fb3825de",
   "metadata": {},
   "source": [
    "After defining the function, we store each result into its own variable for <span style=\"color: Green;\">first</span> and <span style=\"color: Green;\">second</span>. We then use these two variables in the calculation for <span style=\"color: Green;\">third</span> and we use the value of <span style=\"color: Green;\">third</span> to get <span style=\"color: Green;\">fourth</span>. Afterwards, we print the first three variables and return the fourth one."
   ]
  },
  {
   "cell_type": "code",
   "execution_count": null,
   "id": "4e5922b7",
   "metadata": {},
   "outputs": [],
   "source": []
  }
 ],
 "metadata": {
  "kernelspec": {
   "display_name": "Python 3 (ipykernel)",
   "language": "python",
   "name": "python3"
  },
  "language_info": {
   "codemirror_mode": {
    "name": "ipython",
    "version": 3
   },
   "file_extension": ".py",
   "mimetype": "text/x-python",
   "name": "python",
   "nbconvert_exporter": "python",
   "pygments_lexer": "ipython3",
   "version": "3.10.11"
  }
 },
 "nbformat": 4,
 "nbformat_minor": 5
}
