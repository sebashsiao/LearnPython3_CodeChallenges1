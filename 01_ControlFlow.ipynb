{
 "cells": [
  {
   "cell_type": "markdown",
   "source": [
    "# Python Code Challenges: Control Flow"
   ],
   "metadata": {
    "collapsed": false
   },
   "id": "396296e3965ed5bd"
  },
  {
   "cell_type": "markdown",
   "source": [],
   "metadata": {
    "collapsed": false
   },
   "id": "f68bf444a520c48d"
  },
  {
   "cell_type": "markdown",
   "source": [
    "#### Python Code Challenges involving Control Flow\n",
    "\n",
    "This article will help you review Python functions by providing some code challenges about control flow.\n",
    "\n",
    "Some of these challenges are difficult! Take some time to think about them before starting to code.\n",
    "\n",
    "You might not get the solution correct on your first try — look at your output, try to find where you’re going wrong, and iterate on your solution.\n",
    "\n",
    "Finally, if you get stuck, use our solution code! If you “Check Answer” twice with an incorrect solution, you should see an option to get our solution code. However, truly investigate that solution — experiment and play with the solution code until you have a good grasp of how it is working. Good luck!"
   ],
   "metadata": {
    "collapsed": false
   },
   "id": "fa508c41fd365bf3"
  },
  {
   "cell_type": "markdown",
   "source": [
    "## Function Syntax\n",
    "As a refresher, function syntax looks like this:"
   ],
   "metadata": {
    "collapsed": false
   },
   "id": "4185bd9a43cf1efd"
  },
  {
   "cell_type": "code",
   "execution_count": 7,
   "outputs": [],
   "source": [
    "def some_function(some_input1, some_input2):\n",
    "  # … do something with the inputs …\n",
    "  return output"
   ],
   "metadata": {
    "collapsed": false,
    "ExecuteTime": {
     "end_time": "2023-10-09T19:55:13.467925Z",
     "start_time": "2023-10-09T19:55:13.383273Z"
    }
   },
   "id": "2fa68a37e73fb01c"
  },
  {
   "cell_type": "markdown",
   "source": [
    "For example, a function that returns the sum of the first and last elements of a given list might look like this:"
   ],
   "metadata": {
    "collapsed": false
   },
   "id": "78d1bf157a6d50c3"
  },
  {
   "cell_type": "code",
   "execution_count": 8,
   "outputs": [],
   "source": [
    "def first_plus_last(lst):\n",
    "  return lst[0] + lst[-1]\n"
   ],
   "metadata": {
    "collapsed": false,
    "ExecuteTime": {
     "end_time": "2023-10-09T19:55:13.468493Z",
     "start_time": "2023-10-09T19:55:13.390346Z"
    }
   },
   "id": "1a23e07a244e542f"
  },
  {
   "cell_type": "markdown",
   "source": [
    "And this would produce output like:"
   ],
   "metadata": {
    "collapsed": false
   },
   "id": "f123d5ebfe0e3f31"
  },
  {
   "cell_type": "raw",
   "source": [
    ">>> first_plus_last([1, 2, 3, 4])\n",
    "5\n",
    ">>> first_plus_last([8, 2, 5, -8])\n",
    "0\n",
    ">>> first_plus_last([-10, 2, 3, -4])\n",
    "-14"
   ],
   "metadata": {
    "collapsed": false
   },
   "id": "cfe14b4b7708dcbe"
  },
  {
   "cell_type": "markdown",
   "source": [
    "## Challenges\n",
    "We’ve included 5 challenges below. Try to answer all of them and polish up your problem-solving skills and your control flow expertise."
   ],
   "metadata": {
    "collapsed": false
   },
   "id": "f2c81c53d462a1b6"
  },
  {
   "cell_type": "markdown",
   "source": [
    "## 1. Large Power\n",
    "For the first code challenge, we are going to create a method that tests whether the result of taking the power of one number to another number provides an answer which is greater than 5000. We will use a conditional statement to return True if the result is greater than 5000 or return False if it is not. In order to accomplish this, we will need the following steps:\n",
    "\n",
    "1. Define the function to accept two input parameters called base and exponent\n",
    "2. Calculate the result of base to the power of exponent\n",
    "3. Use an if statement to test if the result is greater than 5000. If it is then return True. Otherwise, return False"
   ],
   "metadata": {
    "collapsed": false
   },
   "id": "e7b1ed2d86ec790"
  },
  {
   "cell_type": "markdown",
   "source": [
    "### Coding question\n",
    "Create a function named large_power() that takes two parameters named base and exponent.\n",
    "\n",
    "If base raised to the exponent is greater than 5000, return True, otherwise return False"
   ],
   "metadata": {
    "collapsed": false
   },
   "id": "eebf0d391ea32924"
  },
  {
   "cell_type": "code",
   "execution_count": 9,
   "outputs": [
    {
     "name": "stdout",
     "output_type": "stream",
     "text": [
      "True\n",
      "False\n"
     ]
    }
   ],
   "source": [
    "# Write your large_power function here:\n",
    "def large_power(base, exponent):\n",
    "  if base ** exponent > 5000:\n",
    "    return True\n",
    "  else:\n",
    "    return False\n",
    "\n",
    "# Uncomment these function calls to test your large_power function:\n",
    "print(large_power(2, 13))\n",
    "# should print True\n",
    "print(large_power(2, 12))\n",
    "# should print False"
   ],
   "metadata": {
    "collapsed": false,
    "ExecuteTime": {
     "end_time": "2023-10-09T19:55:13.539190Z",
     "start_time": "2023-10-09T19:55:13.405929Z"
    }
   },
   "id": "4bd5b8ed3b9734a7"
  },
  {
   "cell_type": "code",
   "execution_count": 10,
   "outputs": [],
   "source": [
    "# This is how we solved it:\n",
    "\n",
    "def large_power(base, exponent):\n",
    "  if base ** exponent > 5000:\n",
    "    return True\n",
    "  else:\n",
    "    return False\n"
   ],
   "metadata": {
    "collapsed": false,
    "ExecuteTime": {
     "end_time": "2023-10-09T19:55:13.554486Z",
     "start_time": "2023-10-09T19:55:13.412013Z"
    }
   },
   "id": "6f173978d6cd731"
  },
  {
   "cell_type": "markdown",
   "source": [
    "In this solution, we have an example of how the operation can be performed in the condition of the if statement. This prevents us from needing to create an extra variable. If the condition is true, then the indented code is executed which returns True, otherwise the indented code in the else statement is executed."
   ],
   "metadata": {
    "collapsed": false
   },
   "id": "19aa6e31ba38ecb6"
  },
  {
   "cell_type": "markdown",
   "source": [
    "## 2. Over Budget\n",
    "Let’s say we are trying to save some money and we are watching our budget. We need to make sure that the result of our spending is less than the total amount we have allocated for each of the categories. Our function will accept a parameter called budget which describes our spending limit. The next four parameters describe what we are spending our money on. We need to sum all of our spendings and compare it to the budget. If we have gone over budget, we will return True. Otherwise we return False. Here are the steps we need:\n",
    "\n",
    "1. Define the function to accept five parameters starting with budget then food_bill, electricity_bill, internet_bill, and rent\n",
    "2. Calculate the sum of the last four parameters\n",
    "3. Use if and else statements to test if the budget is less than the sum of the calculated sum from the previous step.\n",
    "4. If the condition is true, return True otherwise return False"
   ],
   "metadata": {
    "collapsed": false
   },
   "id": "f52d0f833e8b9f28"
  },
  {
   "cell_type": "markdown",
   "source": [
    "### Coding question\n",
    "You are given a monthly budget and some expenses and need to check if the sum of the expenses goes over budget!\n",
    "\n",
    "First, store the total of all expenses into a variable called total.\n",
    "\n",
    "Next, check if the total is greater than the budget. If it is, store True into a variable called over_budget, otherwise store False in over_budget."
   ],
   "metadata": {
    "collapsed": false
   },
   "id": "516d1efdd46b3a5b"
  },
  {
   "cell_type": "code",
   "execution_count": 11,
   "outputs": [
    {
     "name": "stdout",
     "output_type": "stream",
     "text": [
      "Total: 1860\n",
      "Is it over budget? False\n"
     ]
    }
   ],
   "source": [
    "# Monthly budget\n",
    "budget = 2000\n",
    "\n",
    "# Monthly expenses\n",
    "food_bill = 200\n",
    "electricity_bill = 100\n",
    "internet_bill = 60\n",
    "rent = 1500\n",
    "\n",
    "# Calculate the total amount of expenses\n",
    "total = food_bill + electricity_bill + internet_bill + rent\n",
    "\n",
    "# Check if the total is greater than the budget and store the result in over_budget\n",
    "if total > budget:\n",
    "  over_budget = True\n",
    "else:\n",
    "  over_budget = False\n",
    "\n",
    "# Uncomment the below lines to see the results\n",
    "print(\"Total: \" + str(total))\n",
    "print(\"Is it over budget? \" + str(over_budget))\n"
   ],
   "metadata": {
    "collapsed": false,
    "ExecuteTime": {
     "end_time": "2023-10-09T19:55:13.555023Z",
     "start_time": "2023-10-09T19:55:13.421346Z"
    }
   },
   "id": "e4154bfb2ce6f55f"
  },
  {
   "cell_type": "code",
   "execution_count": 12,
   "outputs": [],
   "source": [
    "# This is one way to solve it:\n",
    "\n",
    "def over_budget(budget, food_bill, electricity_bill, internet_bill, rent):\n",
    "  if (budget < food_bill + electricity_bill + internet_bill + rent):\n",
    "    return True\n",
    "  else:\n",
    "    return False\n"
   ],
   "metadata": {
    "collapsed": false,
    "ExecuteTime": {
     "end_time": "2023-10-09T19:55:13.560176Z",
     "start_time": "2023-10-09T19:55:13.427273Z"
    }
   },
   "id": "d91605e79bff0e07"
  },
  {
   "cell_type": "markdown",
   "source": [],
   "metadata": {
    "collapsed": false
   },
   "id": "e8ee1c416ae1fa32"
  },
  {
   "cell_type": "markdown",
   "source": [
    "Similarly to the last problem, we can perform the operations within the condition of the if statement to prevent us from creating an extra variable. We calculate the sum and compare it to budget at the same time and return True if the condition is met, otherwise we return False."
   ],
   "metadata": {
    "collapsed": false
   },
   "id": "735a3892f38d0b4f"
  },
  {
   "cell_type": "markdown",
   "source": [
    "## 3. Twice As Large\n",
    "In this challenge, we will determine if one number is twice as large as another number. To do this, we will compare the first number with two times the second number. Here are the steps:\n",
    "\n",
    "1. Define our function with two inputs num1 and num2\n",
    "2. Multiply the second input by 2\n",
    "3. Use an if statement to compare the result of the last calculation with the first input\n",
    "4. If num1 is greater then return True otherwise return False"
   ],
   "metadata": {
    "collapsed": false
   },
   "id": "4f896b1d7de62fae"
  },
  {
   "cell_type": "markdown",
   "source": [
    "### Coding question\n",
    "Create a function named twice_as_large() that has two parameters named num1 and num2.\n",
    "\n",
    "Return True if num1 is more than double num2. Return False otherwise."
   ],
   "metadata": {
    "collapsed": false
   },
   "id": "341e55fdc9f08c87"
  },
  {
   "cell_type": "code",
   "execution_count": 13,
   "outputs": [
    {
     "name": "stdout",
     "output_type": "stream",
     "text": [
      "False\n",
      "True\n"
     ]
    }
   ],
   "source": [
    "# Write your twice_as_large function here:\n",
    "def twice_as_large(num1, num2):\n",
    "  if num1 > (num2*2):\n",
    "    return True\n",
    "  else:\n",
    "    return False\n",
    "\n",
    "# Uncomment these function calls to test your twice_as_large function:\n",
    "print(twice_as_large(10, 5))\n",
    "# should print False\n",
    "print(twice_as_large(11, 5))\n",
    "# should print True"
   ],
   "metadata": {
    "collapsed": false,
    "ExecuteTime": {
     "end_time": "2023-10-09T19:55:13.560793Z",
     "start_time": "2023-10-09T19:55:13.437317Z"
    }
   },
   "id": "fcfa0985a630eccb"
  },
  {
   "cell_type": "code",
   "execution_count": 14,
   "outputs": [],
   "source": [
    "# Here is this solution:\n",
    "\n",
    "def twice_as_large(num1, num2):\n",
    "  if num1 > 2 * num2:\n",
    "    return True\n",
    "  else:\n",
    "    return False"
   ],
   "metadata": {
    "collapsed": false,
    "ExecuteTime": {
     "end_time": "2023-10-09T19:55:13.563858Z",
     "start_time": "2023-10-09T19:55:13.446062Z"
    }
   },
   "id": "55765b78967ba7e0"
  },
  {
   "cell_type": "markdown",
   "source": [
    "In this function, we also performed the operation within the condition of the if statement. The second input is multiplied by 2 and then compared to the first input on the same line."
   ],
   "metadata": {
    "collapsed": false
   },
   "id": "77cf239b57909362"
  },
  {
   "cell_type": "markdown",
   "source": [
    "## 4. Divisible By Ten\n",
    "To make things a bit more challenging, we are going to create a function that determines whether or not a number is divisible by ten. A number is divisible by ten if the remainder of the number divided by 10 is 0. Using this, we can complete this function in a few steps:\n",
    "\n",
    "1. Define the function header to accept one input num\n",
    "2. Calculate the remainder of the input divided by 10 (use modulus)\n",
    "3. Use an if statement to check if the remainder was 0. If the remainder was 0, return True, otherwise, return False"
   ],
   "metadata": {
    "collapsed": false
   },
   "id": "ba3d81c00246616c"
  },
  {
   "cell_type": "markdown",
   "source": [
    "### Coding question\n",
    "Create a function called divisible_by_ten() that has one parameter named num.\n",
    "\n",
    "The function should return True if num is divisible by 10, and False otherwise. Consider using modulo operator % to check for divisibility."
   ],
   "metadata": {
    "collapsed": false
   },
   "id": "e4e1e785cc28a978"
  },
  {
   "cell_type": "code",
   "execution_count": 15,
   "outputs": [
    {
     "name": "stdout",
     "output_type": "stream",
     "text": [
      "True\n",
      "False\n"
     ]
    }
   ],
   "source": [
    "# Write your divisible_by_ten() function here:\n",
    "def divisible_by_ten(num):\n",
    "  if num % 10 == 0:\n",
    "    return True\n",
    "  else:\n",
    "    return False\n",
    "\n",
    "# Uncomment these print() function calls to test your divisible_by_ten() function:\n",
    "\n",
    "print(divisible_by_ten(20))\n",
    "# should print True\n",
    "print(divisible_by_ten(25))\n",
    "# should print False"
   ],
   "metadata": {
    "collapsed": false,
    "ExecuteTime": {
     "end_time": "2023-10-09T19:55:13.576147Z",
     "start_time": "2023-10-09T19:55:13.452088Z"
    }
   },
   "id": "8a077bea9d8a0ca2"
  },
  {
   "cell_type": "code",
   "execution_count": 16,
   "outputs": [],
   "source": [
    "# Here’s one solution:\n",
    "\n",
    "def divisible_by_ten(num):\n",
    "  if (num % 10 == 0):\n",
    "    return True\n",
    "  else:\n",
    "    return False\n"
   ],
   "metadata": {
    "collapsed": false,
    "ExecuteTime": {
     "end_time": "2023-10-09T19:55:13.576807Z",
     "start_time": "2023-10-09T19:55:13.459919Z"
    }
   },
   "id": "ec88cd1f529f3ae0"
  },
  {
   "cell_type": "markdown",
   "source": [
    "In this solution, we perform the modulus operation within the condition of the if statement. We test if the result is equal to 0 and if it is, then we return True otherwise we return False."
   ],
   "metadata": {
    "collapsed": false
   },
   "id": "fc53488fbd5f809d"
  },
  {
   "cell_type": "markdown",
   "source": [
    "## 5. Not Sum To Ten\n",
    "Finally, we are going to check if the summation of two inputs does not equal ten. Our function will accept two inputs and add them together. If the two numbers added together are not equal to ten, then we will return True, otherwise, we will return False. Here is what we need to do:\n",
    "\n",
    "1. Define the function to accept two parameters, num1 and num2\n",
    "2. Add the two parameters together\n",
    "3. Test if the result is not equal to 10\n",
    "4. If the sum is not equal, return True, otherwise, return False"
   ],
   "metadata": {
    "collapsed": false
   },
   "id": "38f12cbc57ce24b2"
  },
  {
   "cell_type": "markdown",
   "source": [
    "### Coding question\n",
    "You are given two numbers stored in num1 and num2. If the sum of num1 and num2 is NOT equal to 10, then store False into a variable called is_equal, otherwise store True in is_equal."
   ],
   "metadata": {
    "collapsed": false
   },
   "id": "78fef9a20570eb94"
  },
  {
   "cell_type": "code",
   "execution_count": 17,
   "outputs": [
    {
     "name": "stdout",
     "output_type": "stream",
     "text": [
      "Does the sum of the numbers 6 & 3 equal 10? False\n"
     ]
    }
   ],
   "source": [
    "num1 = 6\n",
    "num2 = 3\n",
    "\n",
    "# Write your if statement here\n",
    "if (num1 + num2 != 10):\n",
    "  is_equal = False\n",
    "else:\n",
    "  is_equal = True\n",
    "\n",
    "# Uncomment the below lines to show the result\n",
    "print(\"Does the sum of the numbers {} & {} equal 10? \".format(num1, num2) + str(is_equal))"
   ],
   "metadata": {
    "collapsed": false,
    "ExecuteTime": {
     "end_time": "2023-10-09T19:55:13.580077Z",
     "start_time": "2023-10-09T19:55:13.472767Z"
    }
   },
   "id": "a088b2f478c33664"
  },
  {
   "cell_type": "code",
   "execution_count": 18,
   "outputs": [],
   "source": [
    "# Here is how we solved this one:\n",
    "\n",
    "def not_sum_to_ten(num1, num2):\n",
    "  if (num1 + num2 != 10):\n",
    "    return True\n",
    "  else:\n",
    "    return False"
   ],
   "metadata": {
    "collapsed": false,
    "ExecuteTime": {
     "end_time": "2023-10-09T19:55:13.580851Z",
     "start_time": "2023-10-09T19:55:13.479062Z"
    }
   },
   "id": "34ff640c4c75dcb3"
  },
  {
   "cell_type": "markdown",
   "source": [
    "We begin by adding our parameters within the condition of the if statement. Next, we use != to compare the sum to 10. If they are not equal then our function returns True, otherwise it returns False."
   ],
   "metadata": {
    "collapsed": false
   },
   "id": "e4d5cee7b66e52b1"
  }
 ],
 "metadata": {
  "kernelspec": {
   "display_name": "Python 3",
   "language": "python",
   "name": "python3"
  },
  "language_info": {
   "codemirror_mode": {
    "name": "ipython",
    "version": 2
   },
   "file_extension": ".py",
   "mimetype": "text/x-python",
   "name": "python",
   "nbconvert_exporter": "python",
   "pygments_lexer": "ipython2",
   "version": "2.7.6"
  }
 },
 "nbformat": 4,
 "nbformat_minor": 5
}
