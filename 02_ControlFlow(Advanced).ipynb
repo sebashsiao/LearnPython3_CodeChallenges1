{
 "cells": [
  {
   "cell_type": "markdown",
   "id": "cac2be08ff322800",
   "metadata": {},
   "source": [
    "# Python Code Challenges: Control Flow (Advanced)"
   ]
  },
  {
   "cell_type": "markdown",
   "id": "95df322ecdf6264",
   "metadata": {},
   "source": [
    "#### Difficult Python Code Challenges Involving Control Flow\n",
    "\n",
    "This article will help you review Python functions by providing some code challenges involving control flow.\n",
    "\n",
    "Some of these challenges are difficult! Take some time to think about them before starting to code.\n",
    "\n",
    "You might not get the solution correct on your first try — look at your output, try to find where you’re going wrong, and iterate on your solution.\n",
    "\n",
    "Finally, if you get stuck, use our solution code! If you “Check Answer” twice with an incorrect solution, you should see an option to get our solution code. However, truly investigate that solution — experiment and play with the solution code until you have a good grasp of how it is working. Good luck!\n",
    "\n"
   ]
  },
  {
   "cell_type": "markdown",
   "id": "bdad53f16153d569",
   "metadata": {},
   "source": [
    "## Function Syntax\n",
    "As a refresher, function syntax looks like this:"
   ]
  },
  {
   "cell_type": "code",
   "execution_count": 25,
   "id": "4b9e307b9cd43381",
   "metadata": {
    "ExecuteTime": {
     "end_time": "2023-10-09T19:55:57.318804Z",
     "start_time": "2023-10-09T19:55:57.254829Z"
    }
   },
   "outputs": [],
   "source": [
    "def some_function(some_input1, some_input2):\n",
    "  # … do something with the inputs …\n",
    "  return output\n"
   ]
  },
  {
   "cell_type": "markdown",
   "id": "bdab24ed5a08e146",
   "metadata": {},
   "source": [
    "For example, a function that returns the sum of the first and last elements of a given list might look like this:"
   ]
  },
  {
   "cell_type": "code",
   "execution_count": 26,
   "id": "294cf8c665210b76",
   "metadata": {
    "ExecuteTime": {
     "end_time": "2023-10-09T19:55:57.332222Z",
     "start_time": "2023-10-09T19:55:57.261274Z"
    }
   },
   "outputs": [],
   "source": [
    "def first_plus_last(lst):\n",
    "  return lst[0] + lst[-1]"
   ]
  },
  {
   "cell_type": "markdown",
   "id": "82baa49ebe5ee361",
   "metadata": {},
   "source": [
    "And this would produce output like:"
   ]
  },
  {
   "cell_type": "raw",
   "id": "33146207d08d39f9",
   "metadata": {},
   "source": [
    ">>> first_plus_last([1, 2, 3, 4])\n",
    "5\n",
    ">>> first_plus_last([8, 2, 5, -8])\n",
    "0\n",
    ">>> first_plus_last([-10, 2, 3, -4])\n",
    "-14"
   ]
  },
  {
   "cell_type": "markdown",
   "id": "e7a1095a27e9fd2c",
   "metadata": {},
   "source": [
    "## Challenges\n",
    "We’ve included 5 challenges below. Try to answer all of them and polish up your problem-solving skills!"
   ]
  },
  {
   "cell_type": "markdown",
   "id": "2f4fd7c70f5b0e3",
   "metadata": {},
   "source": [
    "## 1. In Range\n",
    "Let’s start the advanced challenge problems by testing if a number falls within a certain range. We will accept three parameters where the first parameter is the number we are testing, the second parameter is the lower bound and the third parameter is the upper bound of our range. These are the steps required:\n",
    "\n",
    "1. Define the function to accept three numbers as parameters\n",
    "2. Test if the number is greater than or equal to the lower bound and less than or equal to the upper bound\n",
    "3. If this is true, return True, otherwise, return False"
   ]
  },
  {
   "cell_type": "markdown",
   "id": "21310a860d5282e9",
   "metadata": {},
   "source": [
    "### Coding question\n",
    "Create a function named in_range() that has three parameters named num, lower, and upper.\n",
    "\n",
    "The function should return True if num is greater than or equal to lower and less than or equal to upper. Otherwise, return False."
   ]
  },
  {
   "cell_type": "code",
   "execution_count": 27,
   "id": "6ee9b03564cb1b90",
   "metadata": {
    "ExecuteTime": {
     "end_time": "2023-10-09T19:55:57.374809Z",
     "start_time": "2023-10-09T19:55:57.275888Z"
    }
   },
   "outputs": [
    {
     "name": "stdout",
     "output_type": "stream",
     "text": [
      "True\n",
      "False\n"
     ]
    }
   ],
   "source": [
    "# Write your in_range function here:\n",
    "def in_range(num, lower, upper):\n",
    "  if (num >= lower and num <= upper):\n",
    "    return True\n",
    "  return False\n",
    "\n",
    "# Uncomment these function calls to test your in_range function:\n",
    "print(in_range(10, 10, 10))\n",
    "# should print True\n",
    "print(in_range(5, 10, 20))\n",
    "# should print False"
   ]
  },
  {
   "cell_type": "code",
   "execution_count": 28,
   "id": "52e4bae5f14da646",
   "metadata": {
    "ExecuteTime": {
     "end_time": "2023-10-09T19:55:57.375152Z",
     "start_time": "2023-10-09T19:55:57.280500Z"
    }
   },
   "outputs": [],
   "source": [
    "# Here’s one way to do it:\n",
    "\n",
    "def in_range(num, lower, upper):\n",
    "  if(num >= lower and num <= upper):\n",
    "    return True\n",
    "  return False"
   ]
  },
  {
   "cell_type": "markdown",
   "id": "1c34ddb3a0636c2a",
   "metadata": {},
   "source": [
    "In this solution, we test the two bounds connected with an and boolean operator. This means that the code nested in the if statement will only execute if both of the conditions are true. We also do not include the else statement here. Since our if statement will return True and exit the function if the condition is true, the last line will only be reached if the condition was false."
   ]
  },
  {
   "cell_type": "markdown",
   "id": "753ed088e0827e9d",
   "metadata": {},
   "source": [
    "## 2. Same Name\n",
    "We need to write a program that checks different names and determines if they are equal. We need to accept two strings and compare them. Here are the steps:\n",
    "\n",
    "1. Define the function to accept two strings, your_name and my_name\n",
    "2. Test if the two strings are equal\n",
    "3. Return True if they are equal, otherwise return False"
   ]
  },
  {
   "cell_type": "markdown",
   "id": "9ecbf362f867f11c",
   "metadata": {},
   "source": [
    "### Coding question\n",
    "Create a function named same_name() that has two parameters named your_name and my_name.\n",
    "\n",
    "If our names are identical, return True. Otherwise, return False."
   ]
  },
  {
   "cell_type": "code",
   "execution_count": 29,
   "id": "2142c94c858709a4",
   "metadata": {
    "ExecuteTime": {
     "end_time": "2023-10-09T19:55:57.388763Z",
     "start_time": "2023-10-09T19:55:57.287487Z"
    }
   },
   "outputs": [
    {
     "name": "stdout",
     "output_type": "stream",
     "text": [
      "True\n",
      "False\n",
      "True\n"
     ]
    }
   ],
   "source": [
    "# Write your same_name function here:\n",
    "def same_name(your_name, my_name=\"Matt\"):\n",
    "  if (your_name == my_name):\n",
    "    return True\n",
    "  return False\n",
    "# Uncomment these function calls to test your same_name function:\n",
    "print(same_name(\"Colby\", \"Colby\"))\n",
    "# should print True\n",
    "print(same_name(\"Tina\", \"Amber\"))\n",
    "# should print False\n",
    "print(same_name('Matt'))"
   ]
  },
  {
   "cell_type": "code",
   "execution_count": 30,
   "id": "332aaecba7be5bd9",
   "metadata": {
    "ExecuteTime": {
     "end_time": "2023-10-09T19:55:57.391194Z",
     "start_time": "2023-10-09T19:55:57.300825Z"
    }
   },
   "outputs": [],
   "source": [
    "# Here is this solution:\n",
    "\n",
    "def same_name(your_name, my_name):\n",
    "  if (your_name == my_name):\n",
    "    return True\n",
    "  else:\n",
    "    return False\n"
   ]
  },
  {
   "cell_type": "markdown",
   "id": "b97aa9e39cd4ddc9",
   "metadata": {},
   "source": [
    "As you can see in this solution code, comparing two strings in python can be done using the == operator. If you want an added challenge, you can try shortening the function body to one line of code!"
   ]
  },
  {
   "cell_type": "markdown",
   "id": "4e395df1292a4ba7",
   "metadata": {},
   "source": [
    "## 3. Always False\n",
    "There are some situations that you normally want to avoid when programming using conditional statements. One example is a contradiction. This occurs when your condition will always be false no matter what value you pass into it. Let’s create an example of a function that contains a contradiction. It will contain a few steps:\n",
    "\n",
    "1. Define the function to accept a single parameter called num\n",
    "2. Use a combination of <, > and and to create a contradiction in an if statement.\n",
    "3. If the condition is true, return True, otherwise return False. The trick here is that because we’ve written a contradiction, the condition should never be true, so we should expect to always return False."
   ]
  },
  {
   "cell_type": "markdown",
   "id": "446f1130942488eb",
   "metadata": {},
   "source": [
    "### Coding question\n",
    "Create a function named always_false() that has one parameter named num.\n",
    "\n",
    "Using an if statement, your variable num, and the operators >, and <, make it so your function will return False no matter what number is stored in num.\n",
    "\n",
    "An if statement that is always false is called a contradiction. You will rarely want to do this while programming, but it is important to realize it is possible to do this."
   ]
  },
  {
   "cell_type": "code",
   "execution_count": 31,
   "id": "af0b59592cb3ecca",
   "metadata": {
    "ExecuteTime": {
     "end_time": "2023-10-09T19:55:57.394041Z",
     "start_time": "2023-10-09T19:55:57.310810Z"
    }
   },
   "outputs": [
    {
     "name": "stdout",
     "output_type": "stream",
     "text": [
      "False\n",
      "False\n",
      "False\n"
     ]
    }
   ],
   "source": [
    "# Write your always_false function here:\n",
    "def always_false(num):\n",
    "  if (num < num > num):\n",
    "    return True\n",
    "  return False\n",
    "# Uncomment these function calls to test your always_false function:\n",
    "print(always_false(0))\n",
    "# should print False\n",
    "print(always_false(-1))\n",
    "# should print False\n",
    "print(always_false(1))\n",
    "# should print False"
   ]
  },
  {
   "cell_type": "code",
   "execution_count": 32,
   "id": "c46f6d3342aadffb",
   "metadata": {
    "ExecuteTime": {
     "end_time": "2023-10-09T19:55:57.394528Z",
     "start_time": "2023-10-09T19:55:57.318003Z"
    }
   },
   "outputs": [],
   "source": [
    "# Here is one way to solve this:\n",
    "\n",
    "def always_false(num):\n",
    "  if (num > 0 and num < 0):\n",
    "    return True\n",
    "  else:\n",
    "    return False"
   ]
  },
  {
   "cell_type": "markdown",
   "id": "3134343104f68f16",
   "metadata": {},
   "source": [
    "In our example, we use the contradiction of being greater than and less than 0 at the same time. No matter what value we pass into the function, our condition will always be false since it is not logically possible. You normally want to avoid creating conditions like this."
   ]
  },
  {
   "cell_type": "markdown",
   "id": "8ea0d7bcac85af02",
   "metadata": {},
   "source": []
  },
  {
   "cell_type": "markdown",
   "id": "1e3cb9250a53f4c3",
   "metadata": {},
   "source": [
    "## 4. Movie Review\n",
    "We want to create a function that will help us rate movies. Our function will split the ratings into different ranges and tell the user how the movie was based on the movie’s rating. Here are the steps needed:\n",
    "\n",
    "1. Define our function to accept a single number called rating\n",
    "2. If the rating is equal to or less than 5, return \"Avoid at all costs!\"\n",
    "3. If the rating was less than 9, return \"This one was fun.\"\n",
    "4. If neither of the if statement conditions were met, return \"Outstanding!\""
   ]
  },
  {
   "cell_type": "markdown",
   "id": "69454c3e5250a832",
   "metadata": {},
   "source": []
  },
  {
   "cell_type": "markdown",
   "id": "775d88a530cc7771",
   "metadata": {},
   "source": [
    "### Coding question\n",
    "Create a function named movie_review() that has one parameter named rating.\n",
    "\n",
    "If rating is less than or equal to 5, return \"Avoid at all costs!\". If rating is between 5 and 9, return \"This one was fun.\". If rating is 9 or above, return \"Outstanding!\"\n",
    "\n"
   ]
  },
  {
   "cell_type": "code",
   "execution_count": 33,
   "id": "1ae8686cd4158148",
   "metadata": {
    "ExecuteTime": {
     "end_time": "2023-10-09T19:55:57.394831Z",
     "start_time": "2023-10-09T19:55:57.322855Z"
    }
   },
   "outputs": [
    {
     "name": "stdout",
     "output_type": "stream",
     "text": [
      "Outstanding!\n",
      "Avoid at all costs!\n",
      "This one was fun.\n",
      "Outstanding!\n"
     ]
    }
   ],
   "source": [
    "# Write your movie_review function here:\n",
    "def movie_review(rating):\n",
    "  if rating <= 5:\n",
    "    return 'Avoid at all costs!'\n",
    "  elif rating < 9:\n",
    "    return 'This one was fun.'\n",
    "  else:\n",
    "    return 'Outstanding!'\n",
    "# Uncomment these function calls to test your movie_review function:\n",
    "print(movie_review(9))\n",
    "# should print \"Outstanding!\"\n",
    "print(movie_review(4))\n",
    "# should print \"Avoid at all costs!\"\n",
    "print(movie_review(6))\n",
    "# should print \"This one was fun.\"\n",
    "print(movie_review(9.6))"
   ]
  },
  {
   "cell_type": "code",
   "execution_count": 34,
   "id": "d5b3808ef3557e",
   "metadata": {
    "ExecuteTime": {
     "end_time": "2023-10-09T19:55:57.395753Z",
     "start_time": "2023-10-09T19:55:57.331744Z"
    }
   },
   "outputs": [],
   "source": [
    "# Here’s how we did it:\n",
    "\n",
    "def movie_review(rating):\n",
    "  if(rating <= 5):\n",
    "    return \"Avoid at all costs!\"\n",
    "  if(rating < 9):\n",
    "    return \"This one was fun.\"\n",
    "  return \"Outstanding!\""
   ]
  },
  {
   "cell_type": "markdown",
   "id": "585d6c473ed72874",
   "metadata": {},
   "source": [
    "To solve this, we used a series of if statements to select which string to return. Another way of solving this would be to use if, elif and else statements."
   ]
  },
  {
   "cell_type": "markdown",
   "id": "8d28ebd8974d0594",
   "metadata": {},
   "source": [
    "## 5. Max Number\n",
    "For the final challenge, we are going to select which number from three input values is the greatest using conditional statements. To do this, we need to check the different combinations of values to see which number is greater than the other two. Here is what we need to do:\n",
    "\n",
    "1. Define a function that has three input parameters, num1, num2, and num3\n",
    "2. Test if num1 is greater than the other two numbers\n",
    "3. If so, return num1\n",
    "4. Test if num2 is greater than the other two numbers\n",
    "5. If so, return num2\n",
    "6. Test if num3 is greater than the other two numbers\n",
    "7. If so, return num3\n",
    "8. If there was a tie between the two largest numbers, then return \"It's a tie!\""
   ]
  },
  {
   "cell_type": "markdown",
   "id": "f8e81249111db052",
   "metadata": {},
   "source": [
    "### Coding question\n",
    "Create a function called max_num() that has three parameters named num1, num2, and num3.\n",
    "\n",
    "The function should return the largest of these three numbers. If any of two numbers tie as the largest, you should return \"It's a tie!\"."
   ]
  },
  {
   "cell_type": "code",
   "execution_count": 35,
   "id": "dad44fdcf6e7048c",
   "metadata": {
    "ExecuteTime": {
     "end_time": "2023-10-09T19:55:57.396204Z",
     "start_time": "2023-10-09T19:55:57.341686Z"
    }
   },
   "outputs": [
    {
     "name": "stdout",
     "output_type": "stream",
     "text": [
      "10\n",
      "5\n",
      "-5\n",
      "It's a tie!\n"
     ]
    }
   ],
   "source": [
    "# Write your max_num function here:\n",
    "def max_num(num1, num2, num3):\n",
    "  if num1 > num2 and num1 > num3:\n",
    "    return num1\n",
    "  elif num2 > num1 and num2 > num3:\n",
    "    return num2\n",
    "  elif num3 > num1 and num3 > num2:\n",
    "    return num3\n",
    "  else:\n",
    "    return \"It's a tie!\"\n",
    "\n",
    "# Uncomment these function calls to test your max_num function:\n",
    "print(max_num(-10, 0, 10))\n",
    "# should print 10\n",
    "print(max_num(-10, 5, -30))\n",
    "# should print 5\n",
    "print(max_num(-5, -10, -10))\n",
    "# should print -5\n",
    "print(max_num(2, 3, 3))\n",
    "# should print \"It's a tie!\"\n"
   ]
  },
  {
   "cell_type": "code",
   "execution_count": 36,
   "id": "4d3182874806eea5",
   "metadata": {
    "ExecuteTime": {
     "end_time": "2023-10-09T19:55:57.396793Z",
     "start_time": "2023-10-09T19:55:57.350525Z"
    }
   },
   "outputs": [],
   "source": [
    "# Here is one way to do it:\n",
    "\n",
    "def max_num(num1, num2, num3):\n",
    "  if num1 > num2 and num1 > num3:\n",
    "    return num1\n",
    "  elif num2 > num1 and num2 > num3:\n",
    "    return num2\n",
    "  elif num3 > num1 and num3 > num2:\n",
    "    return num3\n",
    "  else:\n",
    "    return \"It's a tie!\""
   ]
  },
  {
   "cell_type": "markdown",
   "id": "eaab4a33cd715a09",
   "metadata": {},
   "source": [
    "In this code, we use a series of if, elif, and else statements. We test the first parameter against the other two parameters and return the value if it is greater than the other two. We have two more tests to check if the second parameter is greater than the other two, then if the third parameter is greater than the other two. In the case where none of the parameters were greater than both of the other parameters, then we know that there must have been a tie and the final return statement is reached."
   ]
  }
 ],
 "metadata": {
  "kernelspec": {
   "display_name": "Python 3 (ipykernel)",
   "language": "python",
   "name": "python3"
  },
  "language_info": {
   "codemirror_mode": {
    "name": "ipython",
    "version": 3
   },
   "file_extension": ".py",
   "mimetype": "text/x-python",
   "name": "python",
   "nbconvert_exporter": "python",
   "pygments_lexer": "ipython3",
   "version": "3.11.5"
  }
 },
 "nbformat": 4,
 "nbformat_minor": 5
}
