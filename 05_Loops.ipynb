{
 "cells": [
  {
   "cell_type": "markdown",
   "source": [
    "# Python Code Challenges: Loops"
   ],
   "metadata": {
    "collapsed": false
   },
   "id": "32373364f7d2cf41"
  },
  {
   "cell_type": "markdown",
   "source": [
    "#### Python Code Challenges involving loops.\n",
    "\n",
    "This lesson will help you review Python loops by providing some challenge exercises involving loops.\n",
    "\n",
    "Some of these challenges are difficult! Take some time to think about them before starting to code.\n",
    "\n",
    "You might not get the solution correct on your first try — look at your output, try to find where you’re going wrong, and iterate on your solution.\n",
    "\n",
    "Finally, if you get stuck, use our solution code! If you “Check Answer” twice with an incorrect solution, you should see an option to get our solution code. However, truly investigate that solution — experiment and play with the solution code until you have a good grasp of how it is working. Good luck!"
   ],
   "metadata": {
    "collapsed": false
   },
   "id": "53caa86b446ee907"
  },
  {
   "cell_type": "markdown",
   "source": [
    "## Function and Loop Syntax\n",
    "As a refresher, function syntax looks like this:"
   ],
   "metadata": {
    "collapsed": false
   },
   "id": "f4c4e33de1b599e8"
  },
  {
   "cell_type": "code",
   "execution_count": 2,
   "outputs": [
    {
     "ename": "SyntaxError",
     "evalue": "invalid character '…' (U+2026) (2523201979.py, line 2)",
     "output_type": "error",
     "traceback": [
      "\u001B[0;36m  Cell \u001B[0;32mIn[2], line 2\u001B[0;36m\u001B[0m\n\u001B[0;31m    … do something with the inputs …\u001B[0m\n\u001B[0m    ^\u001B[0m\n\u001B[0;31mSyntaxError\u001B[0m\u001B[0;31m:\u001B[0m invalid character '…' (U+2026)\n"
     ]
    }
   ],
   "source": [
    "def some_function(some_input1, some_input2):\n",
    "  … do something with the inputs …\n",
    "  return output"
   ],
   "metadata": {
    "collapsed": false,
    "ExecuteTime": {
     "end_time": "2023-09-25T22:04:45.703076Z",
     "start_time": "2023-09-25T22:04:45.496530Z"
    }
   },
   "id": "13342c4b005571fd"
  },
  {
   "cell_type": "markdown",
   "source": [
    "For example, a function that prints all odd numbers in a list would look like this:"
   ],
   "metadata": {
    "collapsed": false
   },
   "id": "22197b50f4e76be6"
  },
  {
   "cell_type": "code",
   "execution_count": 3,
   "outputs": [],
   "source": [
    "def odd_nums(my_list):\n",
    "  for item in my_list:\n",
    "    if item % 2 == 1:\n",
    "      print(item)\n"
   ],
   "metadata": {
    "collapsed": false,
    "ExecuteTime": {
     "end_time": "2023-09-25T22:04:45.782310Z",
     "start_time": "2023-09-25T22:04:45.519920Z"
    }
   },
   "id": "ec057cffd6a06ce9"
  },
  {
   "cell_type": "markdown",
   "source": [
    "And this would produce output like:"
   ],
   "metadata": {
    "collapsed": false
   },
   "id": "80d3381661f96487"
  },
  {
   "cell_type": "raw",
   "source": [
    ">>> odd_nums([4, 7, 9, 10, 13])\n",
    "7\n",
    "9\n",
    "13"
   ],
   "metadata": {
    "collapsed": false
   },
   "id": "7b0b0aeb20072a0f"
  },
  {
   "cell_type": "markdown",
   "source": [
    "## Challenges\n",
    "We’ve included 5 challenges below. Try to answer all of them and polish up your problem-solving skills and your loop expertise."
   ],
   "metadata": {
    "collapsed": false
   },
   "id": "ecf83e01e9b7924f"
  },
  {
   "cell_type": "markdown",
   "source": [
    "## 1. Divisible By Ten\n",
    "Let’s start our code challenges with a function that counts how many numbers are divisible by ten from a list of numbers. This function will accept a list of numbers as an input parameter and use a loop to check each of the numbers in the list. Every time a number is divisible by 10, a counter will be incremented and the final count will be returned. These are the steps we need to complete this:\n",
    "\n",
    "1. Define the function to accept one input parameter called nums\n",
    "2. Initialize a counter to 0\n",
    "3. Loop through every number in nums\n",
    "4. Within the loop, if any of the numbers are divisible by 10, increment our counter\n",
    "5. Return the final counter value"
   ],
   "metadata": {
    "collapsed": false
   },
   "id": "f5b8113bc7fc8b1c"
  },
  {
   "cell_type": "markdown",
   "source": [
    "### Coding question\n",
    "Create a function named divisible_by_ten() that takes a list of numbers named nums as a parameter.\n",
    "\n",
    "Return the count of how many numbers in the list are divisible by 10."
   ],
   "metadata": {
    "collapsed": false
   },
   "id": "81a8eff2d0f05f95"
  },
  {
   "cell_type": "code",
   "execution_count": 4,
   "outputs": [
    {
     "name": "stdout",
     "output_type": "stream",
     "text": [
      "3\n",
      "3\n"
     ]
    }
   ],
   "source": [
    "#Write your function here\n",
    "def divisible_by_ten(nums):\n",
    "  return len([i for i in nums if i % 10 == 0])\n",
    "\n",
    "#Uncomment the line below when your function is done\n",
    "print(divisible_by_ten([20, 25, 30, 35, 40]))\n",
    "\n",
    "\n",
    "# Using for loop\n",
    "def dv_ten(nums):\n",
    "  count = 0\n",
    "  for n in nums:\n",
    "    if (n % 10 == 0):\n",
    "      count += 1\n",
    "  return count\n",
    "\n",
    "print(dv_ten([20, 25, 30, 35, 40]))"
   ],
   "metadata": {
    "collapsed": false,
    "ExecuteTime": {
     "end_time": "2023-09-25T22:04:45.832861Z",
     "start_time": "2023-09-25T22:04:45.541688Z"
    }
   },
   "id": "b2b04cd11e929a2f"
  },
  {
   "cell_type": "code",
   "execution_count": 5,
   "outputs": [],
   "source": [
    "# Let’s see how we solved it:\n",
    "\n",
    "def divisible_by_ten(nums):\n",
    "  count = 0\n",
    "  for number in nums:\n",
    "    if (number % 10 == 0):\n",
    "      count += 1\n",
    "  return count"
   ],
   "metadata": {
    "collapsed": false,
    "ExecuteTime": {
     "end_time": "2023-09-25T22:04:45.845536Z",
     "start_time": "2023-09-25T22:04:45.557621Z"
    }
   },
   "id": "1b902ef9681b2a76"
  },
  {
   "cell_type": "markdown",
   "source": [
    "In this solution, we defined the function and set up our counter. We use a for loop to iterate through each number and check if it is divisible by ten. If a number is divisible by another number then the remainder should be zero, so we use modulus. After the loop has finished, we return our count."
   ],
   "metadata": {
    "collapsed": false
   },
   "id": "c8bf3564b69b5f85"
  },
  {
   "cell_type": "markdown",
   "source": [
    "## 2. Greetings\n",
    "You are invited to a social gathering, but you are tired of greeting everyone there. Luckily we can create a function to accomplish this task for us. In this challenge, we will take a list of names and prepend the string 'Hello, ' before each name. This will require a few steps:\n",
    "\n",
    "1. Define the function to accept a list of strings as a single parameter called names\n",
    "2. Create a new list of strings\n",
    "3. Loop through each name in names\n",
    "4. Within the loop, concatenate 'Hello, ' and the current name together and append this new string to the new list of strings\n",
    "5. Afterwards, return the new list of strings"
   ],
   "metadata": {
    "collapsed": false
   },
   "id": "dd51388cbee45264"
  },
  {
   "cell_type": "markdown",
   "source": [
    "### Coding question\n",
    "Create a function named add_greetings() which takes a list of strings named names as a parameter.\n",
    "\n",
    "In the function, create an empty list that will contain each greeting. Add the string 'Hello, ' in front of each name in names and append the greeting to the list.\n",
    "\n",
    "Return the new list containing the greetings."
   ],
   "metadata": {
    "collapsed": false
   },
   "id": "8b7fa7f6ffbe54fd"
  },
  {
   "cell_type": "code",
   "execution_count": 6,
   "outputs": [
    {
     "name": "stdout",
     "output_type": "stream",
     "text": [
      "['Hello, Owen', 'Hello, Max', 'Hello, Sophie', 'Hello, 11']\n"
     ]
    }
   ],
   "source": [
    "#Write your function here\n",
    "def add_greetings(names):\n",
    "  ls = []\n",
    "  for name in names:\n",
    "    ls.append('Hello, ' + str(name))\n",
    "  return ls\n",
    "\n",
    "#Uncomment the line below when your function is done\n",
    "print(add_greetings([\"Owen\", \"Max\", \"Sophie\", 11]))"
   ],
   "metadata": {
    "collapsed": false,
    "ExecuteTime": {
     "end_time": "2023-09-25T22:04:45.865776Z",
     "start_time": "2023-09-25T22:04:45.570333Z"
    }
   },
   "id": "a5aebd4d51555fd7"
  },
  {
   "cell_type": "code",
   "execution_count": 7,
   "outputs": [],
   "source": [
    "# This is one way to solve it:\n",
    "\n",
    "def add_greetings(names):\n",
    "  new_list = []\n",
    "  for name in names:\n",
    "    new_list.append(\"Hello, \" + name)\n",
    "  return new_list\n"
   ],
   "metadata": {
    "collapsed": false,
    "ExecuteTime": {
     "end_time": "2023-09-25T22:04:45.866299Z",
     "start_time": "2023-09-25T22:04:45.583317Z"
    }
   },
   "id": "a077f755393e11be"
  },
  {
   "cell_type": "markdown",
   "source": [
    "First, we set up our function to accept the list of strings and we initialized a new list of strings to hold our greetings. We iterate through each name and we append and concatenate the strings at the same time within our loop. Finally, we return the list containing all of our eloquent greetings."
   ],
   "metadata": {
    "collapsed": false
   },
   "id": "7d9336c1087fa86f"
  },
  {
   "cell_type": "markdown",
   "source": [
    "## 3. Delete Starting Even Numbers\n",
    "Let’s try a tricky challenge involving removing elements from a list. This function will repeatedly remove the first element of a list until it finds an odd number or runs out of elements. It will accept a list of numbers as an input parameter and return the modified list where any even numbers at the beginning of the list are removed. To do this, we will need the following steps:\n",
    "\n",
    "1. Define our function to accept a single input parameter my_list which is a list of numbers\n",
    "2. Loop through every number in the list if there are still numbers in the list and if we haven’t hit an odd number yet\n",
    "3. Within the loop, if the first number in the list is even, then remove the first number of the list\n",
    "4. Once we hit an odd number or we run out of numbers, return the modified list"
   ],
   "metadata": {
    "collapsed": false
   },
   "id": "67ef415952adc13d"
  },
  {
   "cell_type": "markdown",
   "source": [
    "### Coding question\n",
    "Write a function called delete_starting_evens() that has a parameter named my_list.\n",
    "\n",
    "The function should remove elements from the front of my_list until the front of the list is not even. The function should then return my_list.\n",
    "\n",
    "For example if my_list started as [4, 8, 10, 11, 12, 15], then delete_starting_evens(my_list) should return [11, 12, 15].\n",
    "\n",
    "Make sure your function works even if every element in the list is even!"
   ],
   "metadata": {
    "collapsed": false
   },
   "id": "a06d1621919d791"
  },
  {
   "cell_type": "code",
   "execution_count": 8,
   "outputs": [
    {
     "name": "stdout",
     "output_type": "stream",
     "text": [
      "[11, 12, 15]\n",
      "[]\n",
      "[11, 12, 15]\n",
      "[]\n"
     ]
    }
   ],
   "source": [
    "#Write your function here\n",
    "def delete_starting_evens(my_list):\n",
    "  while range(len(my_list)):\n",
    "    if my_list[0] % 2 == 0:\n",
    "      my_list.pop(0)\n",
    "    else:\n",
    "      break\n",
    "  return my_list\n",
    "\n",
    "#Uncomment the lines below when your function is done\n",
    "print(delete_starting_evens([4, 8, 10, 11, 12, 15]))\n",
    "print(delete_starting_evens([4, 8, 10]))\n",
    "\n",
    "\n",
    "# Altern while loop\n",
    "def delete_starting_evens(my_list):\n",
    "  while (len(my_list) > 0 and my_list[0] % 2 == 0):\n",
    "    my_list = my_list[1:]\n",
    "  return my_list\n",
    "\n",
    "print(delete_starting_evens([4, 8, 10, 11, 12, 15]))\n",
    "print(delete_starting_evens([4, 8, 10]))\n"
   ],
   "metadata": {
    "collapsed": false,
    "ExecuteTime": {
     "end_time": "2023-09-25T22:04:45.874953Z",
     "start_time": "2023-09-25T22:04:45.598320Z"
    }
   },
   "id": "c1146f2b19ee8e0e"
  },
  {
   "cell_type": "code",
   "execution_count": 9,
   "outputs": [],
   "source": [
    "# This is the way we solved it:\n",
    "\n",
    "def delete_starting_evens(my_list):\n",
    "  while (len(my_list) > 0 and my_list[0] % 2 == 0):\n",
    "    my_list = my_list[1:]\n",
    "  return my_list"
   ],
   "metadata": {
    "collapsed": false,
    "ExecuteTime": {
     "end_time": "2023-09-25T22:04:45.889462Z",
     "start_time": "2023-09-25T22:04:45.609288Z"
    }
   },
   "id": "e92291378ea7e29d"
  },
  {
   "cell_type": "markdown",
   "source": [
    "After defining our method, we use a while loop to keep iterating as long as some provided conditions are true. We provide two conditions for the while loop to continue. We will keep iterating as long as there is at least one number left in the list len(my_list) > 0 and if the first element in the list is even my_list[0] % 2 == 0. If both of these conditions are true, then we replace the list with every element except for the first one using my_list[1:]. Once the list is empty or we hit an odd number, the while loop terminates and we return the modified list."
   ],
   "metadata": {
    "collapsed": false
   },
   "id": "a3f139106ff1a20d"
  },
  {
   "cell_type": "markdown",
   "source": [
    "## 4. Odd Indices\n",
    "This next function will give us the values from a list at every odd index. We will need to accept a list of numbers as an input parameter and loop through the odd indices instead of the elements. Here are the steps needed:\n",
    "\n",
    "1. Define the function header to accept one input which will be our list of numbers\n",
    "2. Create a new list which will hold our values to return\n",
    "3. Iterate through every odd index until the end of the list\n",
    "4. Within the loop, get the element at the current odd index and append it to our new list\n",
    "5. Return the list of elements which we got from the odd indices."
   ],
   "metadata": {
    "collapsed": false
   },
   "id": "79c71aa6328c3bfb"
  },
  {
   "cell_type": "markdown",
   "source": [
    "### Coding question\n",
    "Create a function named odd_indices() that has one parameter named my_list.\n",
    "\n",
    "The function should create a new empty list and add every element from my_list that has an odd index. The function should then return this new list.\n",
    "\n",
    "For example, odd_indices([4, 3, 7, 10, 11, -2]) should return the list [3, 10, -2]."
   ],
   "metadata": {
    "collapsed": false
   },
   "id": "1c10f475e852aa96"
  },
  {
   "cell_type": "code",
   "execution_count": 10,
   "outputs": [
    {
     "name": "stdout",
     "output_type": "stream",
     "text": [
      "[3, 10, -2]\n",
      "[3, 10, -2]\n"
     ]
    }
   ],
   "source": [
    "#Write your function here\n",
    "def odd_indices(my_list):\n",
    "  new_ls = []\n",
    "  for i in range(len(my_list)):\n",
    "    if i % 2 == 1:\n",
    "      new_ls.append(my_list[i])\n",
    "  return new_ls\n",
    "\n",
    "#Uncomment the line below when your function is done\n",
    "print(odd_indices([4, 3, 7, 10, 11, -2]))\n",
    "\n",
    "\n",
    "# Altern loop\n",
    "my_list = [4, 3, 7, 10, 11, -2]\n",
    "new_l = []\n",
    "for i in range(1, len(my_list), 2):\n",
    "  new_l.append(my_list[i])\n",
    "print(new_l)"
   ],
   "metadata": {
    "collapsed": false,
    "ExecuteTime": {
     "end_time": "2023-09-25T22:04:45.899398Z",
     "start_time": "2023-09-25T22:04:45.626559Z"
    }
   },
   "id": "6e521a6a57115f3d"
  },
  {
   "cell_type": "code",
   "execution_count": 11,
   "outputs": [],
   "source": [
    "# Here is this solution:\n",
    "\n",
    "def odd_indices(my_list):\n",
    "  new_list = []\n",
    "  for index in range(1, len(my_list), 2):\n",
    "    new_list.append(my_list[index])\n",
    "  return new_list"
   ],
   "metadata": {
    "collapsed": false,
    "ExecuteTime": {
     "end_time": "2023-09-25T22:04:45.899809Z",
     "start_time": "2023-09-25T22:04:45.635714Z"
    }
   },
   "id": "cd82e931e6b15c9b"
  },
  {
   "cell_type": "markdown",
   "source": [
    "In our solution, we iterate through a range of values. The function range(1, len(my_list), 2) returns a list of numbers starting at 1, ending at the length of len, and incrementing by 2. This causes the loop to iterate through every odd number until the last index of our list of numbers. Using this, we can simply append the element at whatever index we are at since we know that using our range we will be iterating through only odd indices.\n",
    "\n",
    "Another way to do this would be to iterate through all indices and use an if statement to see if the index you’re currently looking at is odd."
   ],
   "metadata": {
    "collapsed": false
   },
   "id": "22f925a52d2f7a70"
  },
  {
   "cell_type": "markdown",
   "source": [
    "## 5. Exponents\n",
    "In this challenge, we will be using nested loops in order to raise a list of numbers to the power of a list of other numbers. What this means is that for every number in the first list, we will raise that number to the power of every number in the second list. If you provide the first list with 2 elements and the second list with 3 numbers, then there will be 6 final answers. Let’s look at the steps we need:\n",
    "\n",
    "1. Define the function to accept two lists of numbers, bases and powers\n",
    "2. Create a new list that will contain our answers\n",
    "3. Create a loop that iterates through every base in bases\n",
    "4. Within that loop, create another loop that iterates through every power in power\n",
    "5. Within that nested loop, append the result of the current base raised to the current power.\n",
    "6. After all iterations of both loops are complete, return the list of answers"
   ],
   "metadata": {
    "collapsed": false
   },
   "id": "a8d66fe0a5aba031"
  },
  {
   "cell_type": "markdown",
   "source": [
    "### Coding question\n",
    "Create a function named exponents() that takes two lists as parameters named bases and powers. Return a new list containing every number in bases raised to every number in powers.\n",
    "\n",
    "For example, consider the following code.\n",
    "\n",
    "exponents([2, 3, 4], [1, 2, 3])\n",
    "\n",
    "the result would be the list [2, 4, 8, 3, 9, 27, 4, 16, 64]. It would first add two to the first. Then two to the second. Then two to the third, and so on."
   ],
   "metadata": {
    "collapsed": false
   },
   "id": "2815c3fbee3117ae"
  },
  {
   "cell_type": "code",
   "execution_count": 12,
   "outputs": [
    {
     "name": "stdout",
     "output_type": "stream",
     "text": [
      "[2, 4, 8, 3, 9, 27, 4, 16, 64]\n",
      "[2, 4, 8, 3, 9, 27, 4, 16, 64]\n",
      "[64, 128, 256]\n"
     ]
    }
   ],
   "source": [
    "#Write your function here\n",
    "base = [2, 3, 4]\n",
    "exp = [1, 2, 3]\n",
    "\n",
    "new_ls = []\n",
    "for b in base:\n",
    "  for e in exp:\n",
    "    new_ls.append(b**e)\n",
    "print(new_ls)\n",
    "\n",
    "# Function Code\n",
    "def exponents(base, pow):\n",
    "  new_list = []\n",
    "  for b in base:\n",
    "    for p in pow:\n",
    "      new_list.append(b**p)\n",
    "  return new_list\n",
    "\n",
    "#Uncomment the line below when your function is done\n",
    "print(exponents([2, 3, 4], [1, 2, 3]))\n",
    "print(exponents([2], [6,7,8]))\n"
   ],
   "metadata": {
    "collapsed": false,
    "ExecuteTime": {
     "end_time": "2023-09-25T22:04:45.908279Z",
     "start_time": "2023-09-25T22:04:45.663965Z"
    }
   },
   "id": "493904e85c12b8f4"
  },
  {
   "cell_type": "code",
   "execution_count": 13,
   "outputs": [],
   "source": [
    "# Here is how we solved this one:\n",
    "\n",
    "def exponents(bases, powers):\n",
    "  new_list = []\n",
    "  for base in bases:\n",
    "    for power in powers:\n",
    "      new_list.append(base ** power)\n",
    "  return new_list"
   ],
   "metadata": {
    "collapsed": false,
    "ExecuteTime": {
     "end_time": "2023-09-25T22:04:45.910170Z",
     "start_time": "2023-09-25T22:04:45.679038Z"
    }
   },
   "id": "fad9600f2ccfdc05"
  },
  {
   "cell_type": "markdown",
   "source": [
    "As you can see in this solution, we used two nested for loops so that, for every base, we iterate through every power. This allows us to raise each base to every single power in our list and append the answers to our new list. Finally, we return the list of answers."
   ],
   "metadata": {
    "collapsed": false
   },
   "id": "bd415348b55885e5"
  }
 ],
 "metadata": {
  "kernelspec": {
   "display_name": "Python 3",
   "language": "python",
   "name": "python3"
  },
  "language_info": {
   "codemirror_mode": {
    "name": "ipython",
    "version": 2
   },
   "file_extension": ".py",
   "mimetype": "text/x-python",
   "name": "python",
   "nbconvert_exporter": "python",
   "pygments_lexer": "ipython2",
   "version": "2.7.6"
  }
 },
 "nbformat": 4,
 "nbformat_minor": 5
}
